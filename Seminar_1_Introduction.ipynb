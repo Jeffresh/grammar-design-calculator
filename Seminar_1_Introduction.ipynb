{
  "nbformat": 4,
  "nbformat_minor": 0,
  "metadata": {
    "colab": {
      "name": "Seminar 1: Introduction.ipynb",
      "provenance": [],
      "collapsed_sections": [],
      "authorship_tag": "ABX9TyM8w0Rw6w452ljn2453q6gg",
      "include_colab_link": true
    },
    "kernelspec": {
      "name": "python3",
      "display_name": "Python 3"
    }
  },
  "cells": [
    {
      "cell_type": "markdown",
      "metadata": {
        "id": "view-in-github",
        "colab_type": "text"
      },
      "source": [
        "<a href=\"https://colab.research.google.com/github/Jeffresh/grammar-design-calculator/blob/master/Seminar_1_Introduction.ipynb\" target=\"_parent\"><img src=\"https://colab.research.google.com/assets/colab-badge.svg\" alt=\"Open In Colab\"/></a>"
      ]
    },
    {
      "cell_type": "markdown",
      "metadata": {
        "id": "RAR-H5dMndf4",
        "colab_type": "text"
      },
      "source": [
        "# Seminar 1: Introduction\n",
        "\n",
        "Design a grammar that simulates a calculator. The grammar should allow the following:\n",
        "\n",
        "- Addition, subtraction, multiplication and division operations:  `(+, -, *, /)`\n",
        "- Assignment operations: ` = `\n",
        "- The operations will be carried out between numeric constants and variables\n",
        "- All operations will be designed by L-attribuited definitions\n",
        "- All the operations will be ended with: `;`\n",
        "\n",
        "Additionally, an analysis tree will be shown for the entrance: ` b = a + 3 * 5 - 6 / 2 ;`\n"
      ]
    },
    {
      "cell_type": "markdown",
      "metadata": {
        "id": "L0TBQhezogBQ",
        "colab_type": "text"
      },
      "source": [
        "# Lexical description\n",
        "\n",
        "|  Token |                Informal description                |      lexeme     |\n",
        "|:------:|:--------------------------------------------------:|:---------------:|\n",
        "| CTEENT |               Decimal digits sequence              |   digInt[0-9]   |\n",
        "|   ID   | Letters and digits sequence starting with a letter | [a-zA-Z_][\\w_]* |\n",
        "|  ASIGN |                  The character '='                 |       \"=\"       |\n",
        "|    +   |                  The character '+'                 |       \"+\"       |\n",
        "|    -   |                  The character '-'                 |       \"-\"       |\n",
        "|    *   |                  The character '*'                 |       \"*\"       |\n",
        "|    /   |                  The character '\\'                 |       \"\\\"       |\n",
        "|    ;   |                  The character ';'                 |       \";\"       "
      ]
    },
    {
      "cell_type": "markdown",
      "metadata": {
        "id": "8PEgzj0tqdwj",
        "colab_type": "text"
      },
      "source": [
        "# Grammatic design\n",
        "\n",
        "This expression is a assignment ended by `;` composed by any numbers of addends, and every addend is composed by any number of factors. Finally this factors could be `ID's` or `CTEENT's`.\n",
        "\n",
        "```\n",
        "ExprAsign - > ID ASIGN ExprAsign ;\n",
        "ExprAsign - > ExprArithm\n",
        "ExprArithm -> ExprArithm + ExprAdd\n",
        "ExprArithm -> ExpArithm - ExprAdd\n",
        "ExprArithm -> ExprAdd\n",
        "ExprAdd -> ExprAdd * ExprFact\n",
        "ExprAdd -> ExprAdd / ExprFact\n",
        "ExprAdd -> ExprFact\n",
        "ExprFact -> ID\n",
        "ExprFact -> CTEENT\n",
        "\n",
        "```"
      ]
    },
    {
      "cell_type": "markdown",
      "metadata": {
        "id": "-LWKCim2-loI",
        "colab_type": "text"
      },
      "source": [
        "# Prueba"
      ]
    }
  ]
}